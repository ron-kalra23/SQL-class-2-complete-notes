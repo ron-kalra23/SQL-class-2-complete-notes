{
 "cells": [
  {
   "cell_type": "code",
   "execution_count": 1,
   "id": "141959ef",
   "metadata": {},
   "outputs": [],
   "source": [
    "import sqlite3\n",
    "db = sqlite3.connect('syudent_database.db')"
   ]
  },
  {
   "cell_type": "code",
   "execution_count": 9,
   "id": "6041421b",
   "metadata": {},
   "outputs": [],
   "source": [
    "cursor = db.cursor()"
   ]
  },
  {
   "cell_type": "code",
   "execution_count": 15,
   "id": "c8caf9b8",
   "metadata": {},
   "outputs": [
    {
     "data": {
      "text/plain": [
       "<sqlite3.Cursor at 0x28a99434e30>"
      ]
     },
     "execution_count": 15,
     "metadata": {},
     "output_type": "execute_result"
    }
   ],
   "source": [
    "cursor.execute(\"CREATE table  student_data( phone_No INT primary key , email_id text , course_name text , fee_paid INT)\")"
   ]
  },
  {
   "cell_type": "code",
   "execution_count": 16,
   "id": "7990b97f",
   "metadata": {},
   "outputs": [
    {
     "name": "stdout",
     "output_type": "stream",
     "text": [
      "20 Records inserted\n"
     ]
    }
   ],
   "source": [
    "with open ('DT_Students.csv','r') as file:   \n",
    "    no_records = 0                         \n",
    "    for row in file:\n",
    "        cursor.execute(\"INSERT INTO student_data VALUES( ?,?,?,?)\" , row.split(\",\"))\n",
    "        db.commit()\n",
    "        no_records += 1\n",
    "\n",
    "print(no_records , 'Records inserted')    "
   ]
  },
  {
   "cell_type": "markdown",
   "id": "9d7ef21f",
   "metadata": {},
   "source": [
    "# order by:\n",
    "how to change the order of records "
   ]
  },
  {
   "cell_type": "code",
   "execution_count": 18,
   "id": "c29515fc",
   "metadata": {},
   "outputs": [
    {
     "name": "stdout",
     "output_type": "stream",
     "text": [
      "(9988776613, 'student13@gmail.com', 'Digital Marketing', 23000)\n",
      "(9988776615, 'student15@gmail.com', 'Data Science', 23000)\n",
      "(9988776622, 'student22@gmail.com', 'Data Science', 23000)\n",
      "(9988776614, 'student14@gmail.com', 'Data Science', 24000)\n",
      "(9988776623, 'student23@gmail.com', 'Data Science', 24000)\n",
      "(9988776617, 'student17@gmail.com', 'Data Science', 29000)\n",
      "(9988776612, 'student12@gmail.com', 'Digital Marketing', 31000)\n",
      "(9988776610, 'student10@gmail.com', 'Data Analytics', 32500)\n",
      "(9988776619, 'student19@gmail.com', 'Data Analytics', 32500)\n",
      "(9988776607, 'student7@gmail.com', 'Data Science', 33000)\n",
      "(9988776606, 'student6@gmail.com', 'Data Science', 34000)\n",
      "(9988776604, 'student4@gmail.com', 'Digital Marketing', 38000)\n",
      "(9988776609, 'student9@gmail.com', 'Data Science', 40000)\n",
      "(9988776611, 'student11@gmail.com', 'Data Science', 41500)\n",
      "(9988776620, 'student20@gmail.com', 'Inv Banking', 41500)\n",
      "(9988776616, 'student16@gmail.com', 'Data Science', 122500)\n",
      "(9988776608, 'student8@gmail.com', 'Data Science', 129000)\n",
      "(9988776621, 'student21@gmail.com', 'Data Science', 131000)\n",
      "(9988776605, 'student5@gmail.com', 'Data Science', 133000)\n",
      "(9988776618, 'student18@gmail.com', 'Data Science', 140000)\n"
     ]
    }
   ],
   "source": [
    "#how to change the order of records (increasing/decreasing)\n",
    "result = cursor.execute(\"select * from student_data order by fee_paid\")\n",
    "for row in result:\n",
    "    print(row)"
   ]
  },
  {
   "cell_type": "code",
   "execution_count": 19,
   "id": "8c76d74b",
   "metadata": {},
   "outputs": [
    {
     "name": "stdout",
     "output_type": "stream",
     "text": [
      "(9988776618, 'student18@gmail.com', 'Data Science', 140000)\n",
      "(9988776605, 'student5@gmail.com', 'Data Science', 133000)\n",
      "(9988776621, 'student21@gmail.com', 'Data Science', 131000)\n",
      "(9988776608, 'student8@gmail.com', 'Data Science', 129000)\n",
      "(9988776616, 'student16@gmail.com', 'Data Science', 122500)\n",
      "(9988776611, 'student11@gmail.com', 'Data Science', 41500)\n",
      "(9988776620, 'student20@gmail.com', 'Inv Banking', 41500)\n",
      "(9988776609, 'student9@gmail.com', 'Data Science', 40000)\n",
      "(9988776604, 'student4@gmail.com', 'Digital Marketing', 38000)\n",
      "(9988776606, 'student6@gmail.com', 'Data Science', 34000)\n",
      "(9988776607, 'student7@gmail.com', 'Data Science', 33000)\n",
      "(9988776610, 'student10@gmail.com', 'Data Analytics', 32500)\n",
      "(9988776619, 'student19@gmail.com', 'Data Analytics', 32500)\n",
      "(9988776612, 'student12@gmail.com', 'Digital Marketing', 31000)\n",
      "(9988776617, 'student17@gmail.com', 'Data Science', 29000)\n",
      "(9988776614, 'student14@gmail.com', 'Data Science', 24000)\n",
      "(9988776623, 'student23@gmail.com', 'Data Science', 24000)\n",
      "(9988776613, 'student13@gmail.com', 'Digital Marketing', 23000)\n",
      "(9988776615, 'student15@gmail.com', 'Data Science', 23000)\n",
      "(9988776622, 'student22@gmail.com', 'Data Science', 23000)\n"
     ]
    }
   ],
   "source": [
    "result = cursor.execute(\"select * from student_data order by fee_paid desc\")\n",
    "for row in result:\n",
    "    print(row)               #for decreasing order use DESC"
   ]
  },
  {
   "cell_type": "markdown",
   "id": "e46117d5",
   "metadata": {},
   "source": [
    "# update table - update the column value:\n",
    "updating any value in the table "
   ]
  },
  {
   "cell_type": "code",
   "execution_count": 22,
   "id": "802afb3a",
   "metadata": {},
   "outputs": [
    {
     "data": {
      "text/plain": [
       "<sqlite3.Cursor at 0x28a99434e30>"
      ]
     },
     "execution_count": 22,
     "metadata": {},
     "output_type": "execute_result"
    }
   ],
   "source": [
    "#single record update \n",
    "sql = \"UPDATE student_data SET course_name = 'Data science' where phone_no = 9988776612\"\n",
    "cursor.execute(sql)"
   ]
  },
  {
   "cell_type": "code",
   "execution_count": 24,
   "id": "624d978b",
   "metadata": {},
   "outputs": [
    {
     "name": "stdout",
     "output_type": "stream",
     "text": [
      "(9988776612, 'student12@gmail.com', 'Data science', 31000)\n"
     ]
    }
   ],
   "source": [
    "#check if the course_name executed for the particular number \n",
    "sql = \"SELECT * from student_data where phone_no = 9988776612\"\n",
    "result = cursor.execute(sql)\n",
    "for row in result:\n",
    "    print(row)"
   ]
  },
  {
   "cell_type": "code",
   "execution_count": 33,
   "id": "730b93bc",
   "metadata": {},
   "outputs": [],
   "source": [
    "#multiple condition\n",
    "sql = \"SELECT phone_no , course_name, fee_paid fROM student_data WHERE course_name = 'Data science ' AND fee_paid <= 50000\"\n",
    "result = cursor.execute(sql)\n",
    "for row in result:\n",
    "    print(row)"
   ]
  },
  {
   "cell_type": "code",
   "execution_count": 35,
   "id": "4bb6547a",
   "metadata": {},
   "outputs": [],
   "source": [
    "#multiple records updating using IN\n",
    "sql = 'update student_data SET fee_paid = 140000 WHERE phone_no IN (9988776601 , 9988776623 , 9988776615)'\n",
    "result = cursor.execute(sql)      # we r introducing in means in these no only\n",
    "\n",
    "   #it will update the fee_paid to 140000 of student with these above phone_no\n"
   ]
  },
  {
   "cell_type": "code",
   "execution_count": 36,
   "id": "07e71209",
   "metadata": {},
   "outputs": [
    {
     "name": "stdout",
     "output_type": "stream",
     "text": [
      "(9988776615, 140000)\n",
      "(9988776623, 140000)\n"
     ]
    }
   ],
   "source": [
    "#verify if it is updated\n",
    "result = cursor.execute(\"SELECT phone_no , fee_paid FROM student_data WHERE  phone_no IN (9988776601,9988776623,9988776615)\")\n",
    "for row in result:     #988776601 doesn't exist in student_data\n",
    "    print(row)"
   ]
  },
  {
   "cell_type": "markdown",
   "id": "8f8f3ea9",
   "metadata": {},
   "source": [
    "# between :\n",
    "update using between(this will update the records between the range given )"
   ]
  },
  {
   "cell_type": "code",
   "execution_count": 38,
   "id": "3e8ae872",
   "metadata": {},
   "outputs": [],
   "source": [
    "sql = \"UPDATE student_data SET course_name = 'tableau' WHERE phone_no BETWEEN 9988776605 and 9988776608\"\n",
    "result = cursor.execute(sql) #here starting and ending no both are included"
   ]
  },
  {
   "cell_type": "code",
   "execution_count": 39,
   "id": "caed069c",
   "metadata": {},
   "outputs": [
    {
     "name": "stdout",
     "output_type": "stream",
     "text": [
      "(9988776605, 'tableau')\n",
      "(9988776606, 'tableau')\n",
      "(9988776607, 'tableau')\n",
      "(9988776608, 'tableau')\n"
     ]
    }
   ],
   "source": [
    "result = cursor .execute(\"select phone_no ,course_name from student_data where course_name = 'tableau'\")\n",
    "for row in result:\n",
    "    print(row)"
   ]
  },
  {
   "cell_type": "code",
   "execution_count": 44,
   "id": "c10231b5",
   "metadata": {},
   "outputs": [
    {
     "name": "stdout",
     "output_type": "stream",
     "text": [
      "(9988776605, 'tableau')\n",
      "(9988776606, 'tableau')\n",
      "(9988776607, 'tableau')\n",
      "(9988776608, 'tableau')\n"
     ]
    }
   ],
   "source": [
    "result = cursor.execute(\"SELECT phone_no , course_name from student_data where phone_no BETWEEN 9988776605 and 9988776608\")\n",
    "for row in result:\n",
    "    print(row)"
   ]
  },
  {
   "cell_type": "markdown",
   "id": "a35e0ace",
   "metadata": {},
   "source": [
    "# min and max function:\n"
   ]
  },
  {
   "cell_type": "code",
   "execution_count": 46,
   "id": "50355d9b",
   "metadata": {},
   "outputs": [
    {
     "name": "stdout",
     "output_type": "stream",
     "text": [
      "minimun student_fee = (23000,)\n",
      "maximum fees = (140000,)\n"
     ]
    }
   ],
   "source": [
    "#min\n",
    "result = cursor.execute(\"SELECT MIN(fee_paid) from student_data\")\n",
    "print ('minimun student_fee =', result.fetchone() )\n",
    "#here fetchone is used for fetching only one data eg there are a lot of student who paid 23000\n",
    "#there are multiple same no but fetch one\n",
    "#with min and max always use a column with a numerical value\n",
    "\n",
    "\n",
    "#max\n",
    "result = cursor.execute(\"SELECT MAX(fee_paid) from student_data\")\n",
    "print('maximum fees =' , result.fetchone())\n",
    "\n",
    "\n"
   ]
  },
  {
   "cell_type": "raw",
   "id": "c6b69b46",
   "metadata": {},
   "source": [
    "delete records = how to delete unwanted records \n",
    "in data science deleting any records is not done by us "
   ]
  },
  {
   "cell_type": "code",
   "execution_count": null,
   "id": "2db821d9",
   "metadata": {},
   "outputs": [],
   "source": [
    "# sql = \"delete from student_data where phone_no = 9988776623\"\n",
    "cursor.execute(sql)\n",
    "db.commit()   #it will not show anything because data is deleted \n",
    "# we used db.commit() because we bring some changes with this code"
   ]
  },
  {
   "cell_type": "markdown",
   "id": "fb33b324",
   "metadata": {},
   "source": [
    "# subquery:\n",
    "query inside another query is known as sub query\n",
    "when we have data distributed in more than one table and we fetch data by using more than one table is when sub query is used "
   ]
  },
  {
   "cell_type": "code",
   "execution_count": 48,
   "id": "82b645fa",
   "metadata": {},
   "outputs": [],
   "source": [
    "# select* from table_name1 where column name(s) = select column_name(s) from student_name2\n",
    "           #query                               =     #subquery"
   ]
  },
  {
   "cell_type": "code",
   "execution_count": 55,
   "id": "dce8462f",
   "metadata": {},
   "outputs": [],
   "source": [
    "db = sqlite3.connect(\"student_course_database.db\")"
   ]
  },
  {
   "cell_type": "code",
   "execution_count": 53,
   "id": "26a4d358",
   "metadata": {},
   "outputs": [],
   "source": [
    "cur = db.cursor()"
   ]
  },
  {
   "cell_type": "code",
   "execution_count": 54,
   "id": "8dcb5dc6",
   "metadata": {},
   "outputs": [
    {
     "data": {
      "text/plain": [
       "<sqlite3.Cursor at 0x28a99434e30>"
      ]
     },
     "execution_count": 54,
     "metadata": {},
     "output_type": "execute_result"
    }
   ],
   "source": [
    "cursor.execute(\"CREATE TABLE course1(course_id INT PRIMARY KEY , course_name text , duration int)\")"
   ]
  },
  {
   "cell_type": "code",
   "execution_count": null,
   "id": "29995ad5",
   "metadata": {},
   "outputs": [],
   "source": []
  },
  {
   "cell_type": "code",
   "execution_count": 56,
   "id": "2cb61c39",
   "metadata": {},
   "outputs": [
    {
     "data": {
      "text/plain": [
       "<sqlite3.Cursor at 0x28a99434e30>"
      ]
     },
     "execution_count": 56,
     "metadata": {},
     "output_type": "execute_result"
    }
   ],
   "source": [
    "cursor.execute(\"create table student1(roll_no int primary key ,student_name text , age int , course_id int , foreign key(course_id) references course1(course_id))\")"
   ]
  },
  {
   "cell_type": "code",
   "execution_count": 57,
   "id": "d3565c41",
   "metadata": {},
   "outputs": [],
   "source": [
    "#here course1 is child key while student1 is parent key"
   ]
  },
  {
   "cell_type": "code",
   "execution_count": 58,
   "id": "7c83db91",
   "metadata": {},
   "outputs": [
    {
     "name": "stdout",
     "output_type": "stream",
     "text": [
      "3 records inserted\n"
     ]
    }
   ],
   "source": [
    "cursor.execute(\"INSERT INTO course1 VALUES(78 , 'data science' , 12) , (56 ,'python' , 6) , (101 , 'data base' ,10)\")\n",
    "print(cursor.rowcount , \"records inserted\")\n",
    "\n",
    "db.commit()"
   ]
  },
  {
   "cell_type": "code",
   "execution_count": 59,
   "id": "4cee7916",
   "metadata": {},
   "outputs": [
    {
     "name": "stdout",
     "output_type": "stream",
     "text": [
      "4 records inserted\n"
     ]
    }
   ],
   "source": [
    "cursor.execute(\"INSERT INTO student1 VALUES(1,'jack' , 22 , 78) , (2 , 'john' , 21,56) , (3,'rudolf' , 12 ,78) , (4,'flick',24,6)\")\n",
    "print(cursor.rowcount , \"records inserted\")\n",
    "\n",
    "db.commit()"
   ]
  },
  {
   "cell_type": "code",
   "execution_count": 60,
   "id": "6a9bf078",
   "metadata": {},
   "outputs": [
    {
     "name": "stdout",
     "output_type": "stream",
     "text": [
      "(78, 'data science', 12)\n",
      "(56, 'python', 6)\n",
      "(101, 'data base', 10)\n"
     ]
    }
   ],
   "source": [
    "result = cursor.execute(\"select * from course1\")\n",
    "for row in result:\n",
    "    print(row)"
   ]
  },
  {
   "cell_type": "code",
   "execution_count": null,
   "id": "e8a14a9a",
   "metadata": {},
   "outputs": [],
   "source": [
    "\n"
   ]
  },
  {
   "cell_type": "code",
   "execution_count": 61,
   "id": "6de4d337",
   "metadata": {},
   "outputs": [
    {
     "name": "stdout",
     "output_type": "stream",
     "text": [
      "(1, 'jack', 22, 78)\n",
      "(2, 'john', 21, 56)\n",
      "(3, 'rudolf', 12, 78)\n",
      "(4, 'flick', 24, 6)\n"
     ]
    }
   ],
   "source": [
    "result = cursor.execute(\"select * from student1\")\n",
    "for row in result:\n",
    "    print(row)"
   ]
  },
  {
   "cell_type": "code",
   "execution_count": 64,
   "id": "ed774781",
   "metadata": {},
   "outputs": [
    {
     "name": "stdout",
     "output_type": "stream",
     "text": [
      "(56,)\n"
     ]
    }
   ],
   "source": [
    "results = cursor.execute(\"select course_id from course1 where course_name = 'python'\")\n",
    "for i in result:\n",
    "    print(i)\n",
    "                         \n",
    "                         "
   ]
  },
  {
   "cell_type": "code",
   "execution_count": 66,
   "id": "15d31556",
   "metadata": {},
   "outputs": [
    {
     "name": "stdout",
     "output_type": "stream",
     "text": [
      "(78,)\n"
     ]
    }
   ],
   "source": [
    "results = cursor.execute(\"select course_id from course1 where course_name = 'data science'\")\n",
    "for i in result:\n",
    "    print(i)"
   ]
  },
  {
   "cell_type": "code",
   "execution_count": 67,
   "id": "ee4d1177",
   "metadata": {},
   "outputs": [
    {
     "data": {
      "text/plain": [
       "[(1, 'jack', 22, 78), (3, 'rudolf', 12, 78)]"
      ]
     },
     "execution_count": 67,
     "metadata": {},
     "output_type": "execute_result"
    }
   ],
   "source": [
    "cursor.execute('select * from student1 WHERE course_id =(select course_id from course1 where course_name = \"data science\")')\n",
    "result.fetchall()"
   ]
  },
  {
   "cell_type": "code",
   "execution_count": 68,
   "id": "5a2f842b",
   "metadata": {},
   "outputs": [
    {
     "data": {
      "text/plain": [
       "(1, 'jack', 22, 78)"
      ]
     },
     "execution_count": 68,
     "metadata": {},
     "output_type": "execute_result"
    }
   ],
   "source": [
    "cursor.execute('select * from student1 WHERE course_id =(select course_id from course1 where course_name = \"data science\")')\n",
    "result.fetchone()"
   ]
  },
  {
   "cell_type": "code",
   "execution_count": 69,
   "id": "27669b31",
   "metadata": {},
   "outputs": [
    {
     "data": {
      "text/plain": [
       "[(2, 'john', 21, 56)]"
      ]
     },
     "execution_count": 69,
     "metadata": {},
     "output_type": "execute_result"
    }
   ],
   "source": [
    "cursor.execute('select * from student1 WHERE course_id =(select course_id from course1 where course_name = \"python\")')\n",
    "result.fetchall()"
   ]
  },
  {
   "cell_type": "markdown",
   "id": "0bf841b9",
   "metadata": {},
   "source": [
    "# fetch record using wildcard:"
   ]
  },
  {
   "cell_type": "raw",
   "id": "49821de6",
   "metadata": {},
   "source": [
    "# when we know only limited about our data but we need to fetch the record out of database then we use wildcard\n",
    "for example we need to fetch jack and we only know that the name start with j and end with k then we used wildcard"
   ]
  },
  {
   "cell_type": "code",
   "execution_count": 70,
   "id": "ffd16f02",
   "metadata": {},
   "outputs": [],
   "source": [
    "#1.  %x = can start with any letter but end with only x (% is a wildcard it can be any letter)\n",
    "#2.  x% = must start with letter x and can be end with any letter.\n",
    "#3.  %x% = word must contain x anywhere inside the word. even it will first letter . even it is first letter it will still fetch"
   ]
  },
  {
   "cell_type": "code",
   "execution_count": 71,
   "id": "3d3750ae",
   "metadata": {},
   "outputs": [
    {
     "name": "stdout",
     "output_type": "stream",
     "text": [
      "(1, 'jack', 22, 78)\n",
      "(2, 'john', 21, 56)\n"
     ]
    }
   ],
   "source": [
    "result = cursor.execute(\"select * from student1 where student_name like '%j%' \")\n",
    "for i in result:\n",
    "    print(i)"
   ]
  },
  {
   "cell_type": "code",
   "execution_count": 72,
   "id": "a658bd57",
   "metadata": {},
   "outputs": [
    {
     "name": "stdout",
     "output_type": "stream",
     "text": [
      "(1, 'jack', 22, 78)\n"
     ]
    }
   ],
   "source": [
    "result = cursor.execute(\"select * from student1 where student_name like '%a%' \")\n",
    "for i in result:\n",
    "    print(i)"
   ]
  },
  {
   "cell_type": "code",
   "execution_count": 74,
   "id": "f788a729",
   "metadata": {},
   "outputs": [],
   "source": [
    "result = cursor.execute(\"select * from student1 where student_name like '%j' \")\n",
    "for i in result:\n",
    "    print(i)    #none of the name end with j"
   ]
  },
  {
   "cell_type": "code",
   "execution_count": 75,
   "id": "8abbc54f",
   "metadata": {},
   "outputs": [
    {
     "name": "stdout",
     "output_type": "stream",
     "text": [
      "(3, 'rudolf', 12, 78)\n"
     ]
    }
   ],
   "source": [
    "result = cursor.execute(\"select * from student1 where student_name like '%d%' \")\n",
    "for i in result:\n",
    "    print(i)"
   ]
  },
  {
   "cell_type": "markdown",
   "id": "e7cb9f81",
   "metadata": {},
   "source": [
    "# join \n",
    "different types of sql joins\n",
    "(inner) join : return record that have matching values in both tables\n",
    "left(outer) join: return all records from the left table and the matched record from the right table.\n",
    "right(outer) join: return all records from the right table , and the matched records from the left side.\n",
    "full(outer) join: return all record when there is a match in either left or right table"
   ]
  },
  {
   "cell_type": "code",
   "execution_count": 76,
   "id": "6bb98338",
   "metadata": {},
   "outputs": [],
   "source": [
    "#Basically it is used to create a new table and join some or all  data from each table to create a nee table  "
   ]
  }
 ],
 "metadata": {
  "kernelspec": {
   "display_name": "Python 3 (ipykernel)",
   "language": "python",
   "name": "python3"
  },
  "language_info": {
   "codemirror_mode": {
    "name": "ipython",
    "version": 3
   },
   "file_extension": ".py",
   "mimetype": "text/x-python",
   "name": "python",
   "nbconvert_exporter": "python",
   "pygments_lexer": "ipython3",
   "version": "3.9.13"
  }
 },
 "nbformat": 4,
 "nbformat_minor": 5
}
